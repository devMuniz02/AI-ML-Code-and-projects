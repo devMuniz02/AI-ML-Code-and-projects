{
 "cells": [
  {
   "cell_type": "code",
   "execution_count": null,
   "id": "7adfdec0-5ea1-4a9b-9586-c95ccaf5281b",
   "metadata": {
    "tags": []
   },
   "outputs": [],
   "source": [
    "!pip install -q geocoder\n"
   ]
  },
  {
   "cell_type": "code",
   "execution_count": null,
   "id": "903abbf6-78f7-4378-b730-c9a71f685118",
   "metadata": {
    "tags": []
   },
   "outputs": [],
   "source": [
    "import geocoder\n",
    "\n",
    "def get_location():\n",
    "    \"\"\"\n",
    "    Gets the approximate location of the system using IP-based geolocation.\n",
    "    \"\"\"\n",
    "    try:\n",
    "        # Get location data\n",
    "        location = geocoder.ip('me')\n",
    "        if location.ok:\n",
    "            print(\"Location details:\")\n",
    "            print(f\"IP Address: {location.ip}\")\n",
    "            print(f\"City: {location.city}\")\n",
    "            print(f\"State: {location.state}\")\n",
    "            print(f\"Country: {location.country}\")\n",
    "            print(f\"Latitude: {location.latlng[0]}\")\n",
    "            print(f\"Longitude: {location.latlng[1]}\")\n",
    "        else:\n",
    "            print(\"Unable to retrieve location details.\")\n",
    "    except Exception as e:\n",
    "        print(f\"An error occurred: {e}\")\n",
    "\n",
    "if __name__ == \"__main__\":\n",
    "    get_location()\n"
   ]
  },
  {
   "cell_type": "code",
   "execution_count": null,
   "id": "14ab885d-e0a3-4f0d-9239-caa3e6208cf2",
   "metadata": {},
   "outputs": [],
   "source": []
  }
 ],
 "metadata": {
  "kernelspec": {
   "display_name": "sagemaker-distribution:Python",
   "language": "python",
   "name": "conda-env-sagemaker-distribution-py"
  },
  "language_info": {
   "codemirror_mode": {
    "name": "ipython",
    "version": 3
   },
   "file_extension": ".py",
   "mimetype": "text/x-python",
   "name": "python",
   "nbconvert_exporter": "python",
   "pygments_lexer": "ipython3",
   "version": "3.10.14"
  }
 },
 "nbformat": 4,
 "nbformat_minor": 5
}
