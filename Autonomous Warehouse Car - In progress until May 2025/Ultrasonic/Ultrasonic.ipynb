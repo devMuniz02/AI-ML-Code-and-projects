{
 "cells": [
  {
   "cell_type": "code",
   "execution_count": null,
   "id": "0317469a-b6b6-429b-956f-b293cbcd366f",
   "metadata": {},
   "outputs": [],
   "source": [
    "# Import required libraries\n",
    "import RPi.GPIO as GPIO\n",
    "import time\n",
    "\n",
    "# GPIO Pin Setup\n",
    "TRIG_PIN = 23  # GPIO pin connected to TRIG of Ultrasonic Sensor\n",
    "ECHO_PIN = 24  # GPIO pin connected to ECHO of Ultrasonic Sensor\n",
    "\n",
    "# GPIO Mode\n",
    "GPIO.setmode(GPIO.BCM)\n",
    "GPIO.setup(TRIG_PIN, GPIO.OUT)\n",
    "GPIO.setup(ECHO_PIN, GPIO.IN)\n",
    "\n",
    "def measure_distance():\n",
    "    \"\"\"\n",
    "    Measures distance using the Ultrasonic Sensor\n",
    "    \"\"\"\n",
    "    # Send Trigger Pulse\n",
    "    GPIO.output(TRIG_PIN, True)\n",
    "    time.sleep(0.00001)\n",
    "    GPIO.output(TRIG_PIN, False)\n",
    "\n",
    "    # Wait for Echo Response\n",
    "    start_time = time.time()\n",
    "    stop_time = time.time()\n",
    "\n",
    "    while GPIO.input(ECHO_PIN) == 0:\n",
    "        start_time = time.time()\n",
    "\n",
    "    while GPIO.input(ECHO_PIN) == 1:\n",
    "        stop_time = time.time()\n",
    "\n",
    "    # Time difference between start and stop\n",
    "    time_elapsed = stop_time - start_time\n",
    "    # Distance calculation (in cm)\n",
    "    distance = (time_elapsed * 34300) / 2\n",
    "\n",
    "    return distance\n",
    "\n",
    "try:\n",
    "    while True:\n",
    "        distance = measure_distance()\n",
    "        print(f\"Measured Distance: {distance:.2f} cm\")\n",
    "        time.sleep(1)\n",
    "except KeyboardInterrupt:\n",
    "    print(\"Measurement stopped by User\")\n",
    "    GPIO.cleanup()\n"
   ]
  }
 ],
 "metadata": {
  "kernelspec": {
   "display_name": "sagemaker-distribution:Python",
   "language": "python",
   "name": "conda-env-sagemaker-distribution-py"
  },
  "language_info": {
   "codemirror_mode": {
    "name": "ipython",
    "version": 3
   },
   "file_extension": ".py",
   "mimetype": "text/x-python",
   "name": "python",
   "nbconvert_exporter": "python",
   "pygments_lexer": "ipython3",
   "version": "3.10.14"
  }
 },
 "nbformat": 4,
 "nbformat_minor": 5
}
