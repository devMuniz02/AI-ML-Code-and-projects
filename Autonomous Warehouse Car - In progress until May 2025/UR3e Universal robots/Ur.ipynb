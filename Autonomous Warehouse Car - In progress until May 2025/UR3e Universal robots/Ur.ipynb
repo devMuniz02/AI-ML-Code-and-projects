{
 "cells": [
  {
   "cell_type": "code",
   "execution_count": 1,
   "id": "8f9e8c66-f9fe-4dcd-aadd-395ed844359b",
   "metadata": {
    "tags": []
   },
   "outputs": [
    {
     "name": "stdout",
     "output_type": "stream",
     "text": [
      "Requirement already satisfied: pybullet in /opt/conda/envs/sagemaker-distribution/lib/python3.10/site-packages (3.2.6)\n"
     ]
    }
   ],
   "source": [
    "!pip install pybullet\n"
   ]
  },
  {
   "cell_type": "code",
   "execution_count": 2,
   "id": "cbba9c88-39a8-4379-9fc7-fe3c3c70b346",
   "metadata": {},
   "outputs": [
    {
     "name": "stdout",
     "output_type": "stream",
     "text": [
      "Parsed Joint Limits:\n",
      "{'joint_limits': {'shoulder_pan_joint': {'has_acceleration_limits': False, 'has_effort_limits': True, 'has_position_limits': True, 'has_velocity_limits': True, 'max_effort': 54.0, 'max_position': 6.283185307179586, 'max_velocity': 3.141592653589793, 'min_position': -6.283185307179586}, 'shoulder_lift_joint': {'has_acceleration_limits': False, 'has_effort_limits': True, 'has_position_limits': True, 'has_velocity_limits': True, 'max_effort': 54.0, 'max_position': 6.283185307179586, 'max_velocity': 3.141592653589793, 'min_position': -6.283185307179586}, 'elbow_joint': {'has_acceleration_limits': False, 'has_effort_limits': True, 'has_position_limits': True, 'has_velocity_limits': True, 'max_effort': 28.0, 'max_position': 3.141592653589793, 'max_velocity': 3.141592653589793, 'min_position': -3.141592653589793}, 'wrist_1_joint': {'has_acceleration_limits': False, 'has_effort_limits': True, 'has_position_limits': True, 'has_velocity_limits': True, 'max_effort': 9.0, 'max_position': 6.283185307179586, 'max_velocity': 6.283185307179586, 'min_position': -6.283185307179586}, 'wrist_2_joint': {'has_acceleration_limits': False, 'has_effort_limits': True, 'has_position_limits': True, 'has_velocity_limits': True, 'max_effort': 9.0, 'max_position': 6.283185307179586, 'max_velocity': 6.283185307179586, 'min_position': -6.283185307179586}, 'wrist_3_joint': {'has_acceleration_limits': False, 'has_effort_limits': True, 'has_position_limits': False, 'has_velocity_limits': True, 'max_effort': 9.0, 'max_velocity': 6.283185307179586}}}\n"
     ]
    }
   ],
   "source": [
    "import yaml\n",
    "import math\n",
    "\n",
    "# Custom constructor for !degrees\n",
    "def degrees_constructor(loader, node):\n",
    "    value = loader.construct_scalar(node)\n",
    "    return math.radians(float(value))  # Convert degrees to radians\n",
    "\n",
    "# Register the custom constructor for the !degrees tag\n",
    "yaml.add_constructor(\"!degrees\", degrees_constructor, Loader=yaml.SafeLoader)\n",
    "\n",
    "# Load YAML files with the custom constructor\n",
    "def load_yaml(file_path):\n",
    "    with open(file_path, \"r\") as file:\n",
    "        return yaml.safe_load(file)\n",
    "\n",
    "# Paths to the YAML files\n",
    "visual_parameters = load_yaml(\"visual_parameters.yaml\")\n",
    "physical_parameters = load_yaml(\"physical_parameters.yaml\")\n",
    "joint_limits = load_yaml(\"joint_limits.yaml\")\n",
    "default_kinematics = load_yaml(\"default_kinematics.yaml\")\n",
    "\n",
    "# Print parsed joint limits to verify the custom constructor works\n",
    "print(\"Parsed Joint Limits:\")\n",
    "print(joint_limits)"
   ]
  },
  {
   "cell_type": "code",
   "execution_count": 3,
   "id": "d6548f36-90da-4200-ab09-e54ba38980bb",
   "metadata": {
    "tags": []
   },
   "outputs": [
    {
     "name": "stdout",
     "output_type": "stream",
     "text": [
      "URDF file has been generated: ur3e_generated.urdf\n"
     ]
    }
   ],
   "source": [
    "import yaml\n",
    "import math\n",
    "\n",
    "# Custom constructor for !degrees\n",
    "def degrees_constructor(loader, node):\n",
    "    value = loader.construct_scalar(node)\n",
    "    return math.radians(float(value))  # Convert degrees to radians\n",
    "\n",
    "# Register the custom constructor for the !degrees tag\n",
    "yaml.add_constructor(\"!degrees\", degrees_constructor, Loader=yaml.SafeLoader)\n",
    "\n",
    "# Load YAML files with the custom constructor\n",
    "def load_yaml(file_path):\n",
    "    with open(file_path, \"r\") as file:\n",
    "        return yaml.safe_load(file)\n",
    "\n",
    "# Paths to the YAML files (update with your file paths)\n",
    "visual_parameters = load_yaml(\"visual_parameters.yaml\")\n",
    "physical_parameters = load_yaml(\"physical_parameters.yaml\")\n",
    "joint_limits = load_yaml(\"joint_limits.yaml\")\n",
    "default_kinematics = load_yaml(\"default_kinematics.yaml\")\n",
    "\n",
    "# Start constructing the URDF\n",
    "urdf_content = '<robot name=\"ur3e\">\\n'\n",
    "\n",
    "# Add links\n",
    "for link_name, mesh_data in visual_parameters[\"mesh_files\"].items():\n",
    "    urdf_content += f'  <link name=\"{link_name}\">\\n'\n",
    "    urdf_content += f'    <visual>\\n'\n",
    "    urdf_content += f'      <geometry>\\n'\n",
    "    urdf_content += f'        <mesh filename=\"{mesh_data[\"visual\"][\"mesh\"][\"path\"]}\" />\\n'\n",
    "    urdf_content += f'      </geometry>\\n'\n",
    "    urdf_content += f'      <material name=\"{mesh_data[\"visual\"][\"material\"][\"name\"]}\">\\n'\n",
    "    urdf_content += f'        <color rgba=\"{mesh_data[\"visual\"][\"material\"][\"color\"]}\" />\\n'\n",
    "    urdf_content += f'      </material>\\n'\n",
    "    urdf_content += f'    </visual>\\n'\n",
    "    urdf_content += f'    <collision>\\n'\n",
    "    urdf_content += f'      <geometry>\\n'\n",
    "    urdf_content += f'        <mesh filename=\"{mesh_data[\"collision\"][\"mesh\"][\"path\"]}\" />\\n'\n",
    "    urdf_content += f'      </geometry>\\n'\n",
    "    urdf_content += f'    </collision>\\n'\n",
    "    urdf_content += f'  </link>\\n'\n",
    "\n",
    "# Add joints\n",
    "for joint_name, joint_data in joint_limits[\"joint_limits\"].items():\n",
    "    parent_link = joint_name.split(\"_joint\")[0]  # Derive parent link from joint name\n",
    "    child_link = parent_link  # Simplified assumption (adjust as needed)\n",
    "    urdf_content += f'  <joint name=\"{joint_name}\" type=\"revolute\">\\n'\n",
    "    urdf_content += f'    <parent link=\"{parent_link}\" />\\n'\n",
    "    urdf_content += f'    <child link=\"{child_link}\" />\\n'\n",
    "\n",
    "    # Handle missing keys gracefully\n",
    "    min_position = joint_data.get(\"min_position\", 0)  # Default to 0 if missing\n",
    "    max_position = joint_data.get(\"max_position\", 0)  # Default to 0 if missing\n",
    "    max_velocity = joint_data.get(\"max_velocity\", 0)  # Default to 0 if missing\n",
    "    max_effort = joint_data.get(\"max_effort\", 0)  # Default to 0 if missing\n",
    "\n",
    "    urdf_content += f'    <limit lower=\"{min_position}\" upper=\"{max_position}\" velocity=\"{max_velocity}\" effort=\"{max_effort}\" />\\n'\n",
    "    urdf_content += f'  </joint>\\n'\n",
    "\n",
    "# Finish the URDF file\n",
    "urdf_content += \"</robot>\"\n",
    "\n",
    "# Save the URDF to a file\n",
    "with open(\"ur3e_generated.urdf\", \"w\") as urdf_file:\n",
    "    urdf_file.write(urdf_content)\n",
    "\n",
    "print(\"URDF file has been generated: ur3e_generated.urdf\")\n",
    "\n"
   ]
  },
  {
   "cell_type": "code",
   "execution_count": null,
   "id": "edc3cde3-ab9f-4c4d-a841-91e2f0f17fbe",
   "metadata": {
    "tags": []
   },
   "outputs": [],
   "source": [
    "import pybullet as p\n",
    "import pybullet_data\n",
    "\n",
    "# Connect to the physics server (use GUI or DIRECT)\n",
    "physics_client = p.connect(p.GUI)  # Use p.DIRECT for headless mode\n",
    "\n",
    "# Set the search path for URDF files\n",
    "p.setAdditionalSearchPath(pybullet_data.getDataPath())\n",
    "\n",
    "# Load the URDF\n",
    "robot_id = p.loadURDF(\"ur3e_generated.urdf\", [0, 0, 0], useFixedBase=True)\n",
    "\n",
    "# Disconnect from the server when done\n",
    "p.disconnect()\n"
   ]
  },
  {
   "cell_type": "code",
   "execution_count": null,
   "id": "0f88a26e-147f-4a22-a56f-66e76eb0ddfb",
   "metadata": {
    "tags": []
   },
   "outputs": [],
   "source": [
    "import pybullet as p\n",
    "import pybullet_data\n",
    "import numpy as np\n",
    "import matplotlib.pyplot as plt\n",
    "from matplotlib.animation import FuncAnimation\n",
    "\n",
    "# Connect to PyBullet in DIRECT mode (no GUI)\n",
    "p.connect(p.DIRECT)\n",
    "p.setAdditionalSearchPath(pybullet_data.getDataPath())\n",
    "\n",
    "# Load a flat plane as the ground\n",
    "plane_id = p.loadURDF(\"plane.urdf\")\n",
    "\n",
    "# Load the generated UR3e URDF file\n",
    "urdf_path = \"ur3e_generated.urdf\"  # Ensure this file exists in the working directory\n",
    "robot_id = p.loadURDF(urdf_path, [0, 0, 0], useFixedBase=True)\n",
    "\n",
    "# Set gravity\n",
    "p.setGravity(0, 0, -9.81)\n",
    "\n",
    "# Camera parameters for capturing images\n",
    "camera_params = {\n",
    "    \"width\": 640,\n",
    "    \"height\": 480,\n",
    "    \"view_matrix\": p.computeViewMatrix(\n",
    "        cameraEyePosition=[1, 1, 1],\n",
    "        cameraTargetPosition=[0, 0, 0.5],\n",
    "        cameraUpVector=[0, 0, 1],\n",
    "    ),\n",
    "    \"projection_matrix\": p.computeProjectionMatrixFOV(\n",
    "        fov=60, aspect=1.0, nearVal=0.1, farVal=10.0\n",
    "    ),\n",
    "}\n",
    "\n",
    "# Simulate the robot and capture frames\n",
    "frames = []\n",
    "num_frames = 100\n",
    "for step in range(num_frames):\n",
    "    p.stepSimulation()\n",
    "\n",
    "    # Capture the frame\n",
    "    img = p.getCameraImage(\n",
    "        camera_params[\"width\"],\n",
    "        camera_params[\"height\"],\n",
    "        viewMatrix=camera_params[\"view_matrix\"],\n",
    "        projectionMatrix=camera_params[\"projection_matrix\"],\n",
    "    )\n",
    "    frame = np.reshape(img[2], (camera_params[\"height\"], camera_params[\"width\"], 4))\n",
    "    frames.append(frame)\n",
    "\n",
    "# Disconnect from the simulation\n",
    "p.disconnect()\n",
    "\n",
    "# Create an animation\n",
    "fig, ax = plt.subplots()\n",
    "im = ax.imshow(frames[0])\n",
    "\n",
    "def update(frame):\n",
    "    im.set_data(frame)\n",
    "    return [im]\n",
    "\n",
    "ani = FuncAnimation(fig, update, frames=frames, interval=50, blit=True)\n",
    "plt.close()\n",
    "\n",
    "# Save the animation as a GIF\n",
    "ani.save(\"ur3e_simulation.gif\", fps=20)\n",
    "\n",
    "# Save a single frame as an image\n",
    "plt.imsave(\"ur3e_simulation_image.png\", frames[0])\n",
    "\n",
    "print(\"GIF and image have been saved as 'ur3e_simulation.gif' and 'ur3e_simulation_image.png'.\")\n"
   ]
  },
  {
   "cell_type": "code",
   "execution_count": null,
   "id": "acb14f57-9a3d-4862-a977-edcc768732f0",
   "metadata": {},
   "outputs": [],
   "source": []
  }
 ],
 "metadata": {
  "kernelspec": {
   "display_name": "sagemaker-distribution:Python",
   "language": "python",
   "name": "conda-env-sagemaker-distribution-py"
  },
  "language_info": {
   "codemirror_mode": {
    "name": "ipython",
    "version": 3
   },
   "file_extension": ".py",
   "mimetype": "text/x-python",
   "name": "python",
   "nbconvert_exporter": "python",
   "pygments_lexer": "ipython3",
   "version": "3.10.14"
  }
 },
 "nbformat": 4,
 "nbformat_minor": 5
}
