{
 "cells": [
  {
   "cell_type": "code",
   "execution_count": 1,
   "id": "f857d56c-c598-4ff1-a8f4-13b675f1c941",
   "metadata": {
    "tags": []
   },
   "outputs": [],
   "source": [
    "import sqlite3\n",
    "\n",
    "# Connect to SQLite database\n",
    "connection = sqlite3.connect(\"example.db\")\n",
    "\n",
    "# Create a cursor to execute SQL commands\n",
    "cursor = connection.cursor()\n",
    "\n",
    "# Example: Create table\n",
    "cursor.execute('''\n",
    "CREATE TABLE IF NOT EXISTS users (\n",
    "    id INTEGER PRIMARY KEY AUTOINCREMENT,\n",
    "    name TEXT,\n",
    "    age INTEGER,\n",
    "    email TEXT\n",
    ")\n",
    "''')\n",
    "\n",
    "# Example: Insert data\n",
    "cursor.execute('''\n",
    "INSERT INTO users (name, age, email) VALUES ('Jane Doe', 25, 'jane.doe@example.com')\n",
    "''')\n",
    "\n",
    "# Save changes and close connection\n",
    "connection.commit()\n",
    "connection.close()\n"
   ]
  },
  {
   "cell_type": "code",
   "execution_count": 2,
   "id": "849c6834-2c05-4089-88d7-fe679f1ed99a",
   "metadata": {
    "tags": []
   },
   "outputs": [
    {
     "name": "stdout",
     "output_type": "stream",
     "text": [
      "Contents of the table 'users':\n",
      "(1, 'Jane Doe', 25, 'jane.doe@example.com')\n"
     ]
    }
   ],
   "source": [
    "import sqlite3\n",
    "\n",
    "# Connect to the database\n",
    "connection = sqlite3.connect(\"example.db\")\n",
    "\n",
    "# Create a cursor object to interact with the database\n",
    "cursor = connection.cursor()\n",
    "\n",
    "# Query to retrieve all data from a specific table (e.g., \"users\")\n",
    "table_name = \"users\"  # Replace with your table name\n",
    "query = f\"SELECT * FROM {table_name}\"\n",
    "\n",
    "try:\n",
    "    # Execute the query\n",
    "    cursor.execute(query)\n",
    "\n",
    "    # Fetch all rows from the table\n",
    "    rows = cursor.fetchall()\n",
    "\n",
    "    # Print the rows\n",
    "    print(f\"Contents of the table '{table_name}':\")\n",
    "    for row in rows:\n",
    "        print(row)\n",
    "except sqlite3.OperationalError as e:\n",
    "    print(f\"Error: {e}\")\n",
    "\n",
    "# Close the connection\n",
    "connection.close()\n"
   ]
  },
  {
   "cell_type": "code",
   "execution_count": null,
   "id": "6d384a4a-24ed-42dd-887b-4915e3765cb5",
   "metadata": {},
   "outputs": [],
   "source": []
  }
 ],
 "metadata": {
  "kernelspec": {
   "display_name": "sagemaker-distribution:Python",
   "language": "python",
   "name": "conda-env-sagemaker-distribution-py"
  },
  "language_info": {
   "codemirror_mode": {
    "name": "ipython",
    "version": 3
   },
   "file_extension": ".py",
   "mimetype": "text/x-python",
   "name": "python",
   "nbconvert_exporter": "python",
   "pygments_lexer": "ipython3",
   "version": "3.10.14"
  }
 },
 "nbformat": 4,
 "nbformat_minor": 5
}
