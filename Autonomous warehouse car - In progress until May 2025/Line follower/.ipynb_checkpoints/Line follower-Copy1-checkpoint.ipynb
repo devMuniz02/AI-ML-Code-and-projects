{
 "cells": [
  {
   "cell_type": "code",
   "execution_count": 1,
   "id": "136d3c09-0fa3-4f9f-a236-d37970f85347",
   "metadata": {},
   "outputs": [],
   "source": [
    "!pip install -q opencv-python numpy matplotlib\n"
   ]
  },
  {
   "cell_type": "code",
   "execution_count": 2,
   "id": "e2fc8f09-ada9-4e88-bf05-9d01570d5786",
   "metadata": {
    "tags": []
   },
   "outputs": [
    {
     "name": "stderr",
     "output_type": "stream",
     "text": [
      "[ WARN:0@0.507] global loadsave.cpp:268 findDecoder imread_('carlane.jpeg'): can't open/read file: check file path/integrity\n"
     ]
    },
    {
     "ename": "error",
     "evalue": "OpenCV(4.11.0) /io/opencv/modules/imgproc/src/color.cpp:199: error: (-215:Assertion failed) !_src.empty() in function 'cvtColor'\n",
     "output_type": "error",
     "traceback": [
      "\u001b[0;31m---------------------------------------------------------------------------\u001b[0m",
      "\u001b[0;31merror\u001b[0m                                     Traceback (most recent call last)",
      "Cell \u001b[0;32mIn[2], line 66\u001b[0m\n\u001b[1;32m     64\u001b[0m \u001b[38;5;66;03m# Test on a sample image\u001b[39;00m\n\u001b[1;32m     65\u001b[0m frame \u001b[38;5;241m=\u001b[39m cv2\u001b[38;5;241m.\u001b[39mimread(\u001b[38;5;124m'\u001b[39m\u001b[38;5;124mcarlane.jpeg\u001b[39m\u001b[38;5;124m'\u001b[39m)  \u001b[38;5;66;03m# Replace with the path to your test image\u001b[39;00m\n\u001b[0;32m---> 66\u001b[0m lines, edges, cropped_edges \u001b[38;5;241m=\u001b[39m \u001b[43mprocess_frame\u001b[49m\u001b[43m(\u001b[49m\u001b[43mframe\u001b[49m\u001b[43m)\u001b[49m\n\u001b[1;32m     67\u001b[0m command, info \u001b[38;5;241m=\u001b[39m determine_movement(lines, frame\u001b[38;5;241m.\u001b[39mshape[\u001b[38;5;241m1\u001b[39m])\n\u001b[1;32m     69\u001b[0m \u001b[38;5;66;03m# Display results\u001b[39;00m\n",
      "Cell \u001b[0;32mIn[2], line 8\u001b[0m, in \u001b[0;36mprocess_frame\u001b[0;34m(frame)\u001b[0m\n\u001b[1;32m      6\u001b[0m \u001b[38;5;28;01mdef\u001b[39;00m \u001b[38;5;21mprocess_frame\u001b[39m(frame):\n\u001b[1;32m      7\u001b[0m     \u001b[38;5;66;03m# Convert to grayscale\u001b[39;00m\n\u001b[0;32m----> 8\u001b[0m     gray \u001b[38;5;241m=\u001b[39m \u001b[43mcv2\u001b[49m\u001b[38;5;241;43m.\u001b[39;49m\u001b[43mcvtColor\u001b[49m\u001b[43m(\u001b[49m\u001b[43mframe\u001b[49m\u001b[43m,\u001b[49m\u001b[43m \u001b[49m\u001b[43mcv2\u001b[49m\u001b[38;5;241;43m.\u001b[39;49m\u001b[43mCOLOR_BGR2GRAY\u001b[49m\u001b[43m)\u001b[49m\n\u001b[1;32m     10\u001b[0m     \u001b[38;5;66;03m# Apply Gaussian Blur to reduce noise\u001b[39;00m\n\u001b[1;32m     11\u001b[0m     blurred \u001b[38;5;241m=\u001b[39m cv2\u001b[38;5;241m.\u001b[39mGaussianBlur(gray, (\u001b[38;5;241m5\u001b[39m, \u001b[38;5;241m5\u001b[39m), \u001b[38;5;241m0\u001b[39m)\n",
      "\u001b[0;31merror\u001b[0m: OpenCV(4.11.0) /io/opencv/modules/imgproc/src/color.cpp:199: error: (-215:Assertion failed) !_src.empty() in function 'cvtColor'\n"
     ]
    }
   ],
   "source": [
    "import cv2\n",
    "import numpy as np\n",
    "import matplotlib.pyplot as plt\n",
    "\n",
    "# Function to process the frame and detect lane lines\n",
    "def process_frame(frame):\n",
    "    # Convert to grayscale\n",
    "    gray = cv2.cvtColor(frame, cv2.COLOR_BGR2GRAY)\n",
    "    \n",
    "    # Apply Gaussian Blur to reduce noise\n",
    "    blurred = cv2.GaussianBlur(gray, (5, 5), 0)\n",
    "    \n",
    "    # Apply Canny edge detection\n",
    "    edges = cv2.Canny(blurred, 50, 150)\n",
    "    \n",
    "    # Define a region of interest (ROI)\n",
    "    height, width = edges.shape\n",
    "    mask = np.zeros_like(edges)\n",
    "    polygon = np.array([[\n",
    "        (width * 0.1, height),\n",
    "        (width * 0.9, height),\n",
    "        (width * 0.5, height * 0.6)\n",
    "    ]], np.int32)\n",
    "    cv2.fillPoly(mask, polygon, 255)\n",
    "    cropped_edges = cv2.bitwise_and(edges, mask)\n",
    "    \n",
    "    # Use Hough Transform to detect lines\n",
    "    lines = cv2.HoughLinesP(cropped_edges, 1, np.pi / 180, 50, minLineLength=40, maxLineGap=100)\n",
    "    \n",
    "    return lines, edges, cropped_edges\n",
    "\n",
    "# Function to determine movement commands based on lane lines\n",
    "def determine_movement(lines, frame_width):\n",
    "    if lines is None:\n",
    "        return \"No lanes detected\", None\n",
    "    \n",
    "    # Separate lines into left and right\n",
    "    left_lines = []\n",
    "    right_lines = []\n",
    "    for line in lines:\n",
    "        x1, y1, x2, y2 = line[0]\n",
    "        slope = (y2 - y1) / (x2 - x1) if x2 - x1 != 0 else np.inf\n",
    "        if slope < 0:  # Left line\n",
    "            left_lines.append(line)\n",
    "        elif slope > 0:  # Right line\n",
    "            right_lines.append(line)\n",
    "    \n",
    "    # Calculate the average position of the lanes\n",
    "    left_line_x = np.mean([line[0][0] for line in left_lines]) if left_lines else None\n",
    "    right_line_x = np.mean([line[0][0] for line in right_lines]) if right_lines else None\n",
    "    \n",
    "    # Determine the car's position relative to the lane center\n",
    "    if left_line_x and right_line_x:\n",
    "        lane_center = (left_line_x + right_line_x) / 2\n",
    "        car_position = frame_width / 2\n",
    "        if car_position < lane_center - 10:\n",
    "            return \"Move Right\", (lane_center, car_position)\n",
    "        elif car_position > lane_center + 10:\n",
    "            return \"Move Left\", (lane_center, car_position)\n",
    "        else:\n",
    "            return \"Forward\", (lane_center, car_position)\n",
    "    return \"No clear direction\", None\n",
    "\n",
    "# Test on a sample image\n",
    "frame = cv2.imread('carlane.jpeg')  # Replace with the path to your test image\n",
    "lines, edges, cropped_edges = process_frame(frame)\n",
    "command, info = determine_movement(lines, frame.shape[1])\n",
    "\n",
    "# Display results\n",
    "plt.figure(figsize=(15, 10))\n",
    "plt.subplot(1, 3, 1)\n",
    "plt.title(\"Edges\")\n",
    "plt.imshow(edges, cmap='gray')\n",
    "\n",
    "plt.subplot(1, 3, 2)\n",
    "plt.title(\"Cropped Edges\")\n",
    "plt.imshow(cropped_edges, cmap='gray')\n",
    "\n",
    "plt.subplot(1, 3, 3)\n",
    "plt.title(\"Lane Detection\")\n",
    "output_frame = frame.copy()\n",
    "if lines is not None:\n",
    "    for line in lines:\n",
    "        x1, y1, x2, y2 = line[0]\n",
    "        cv2.line(output_frame, (x1, y1), (x2, y2), (0, 255, 0), 5)\n",
    "plt.imshow(cv2.cvtColor(output_frame, cv2.COLOR_BGR2RGB))\n",
    "\n",
    "print(f\"Command: {command}\")\n",
    "if info:\n",
    "    print(f\"Lane Center: {info[0]}, Car Position: {info[1]}\")\n"
   ]
  },
  {
   "cell_type": "code",
   "execution_count": 4,
   "id": "81a6bd79-1c0e-4dd8-803d-95a1169ae37d",
   "metadata": {
    "tags": []
   },
   "outputs": [
    {
     "name": "stdout",
     "output_type": "stream",
     "text": [
      "Error: Could not load the image. Check the file path.\n"
     ]
    },
    {
     "name": "stderr",
     "output_type": "stream",
     "text": [
      "[ WARN:0@16.176] global loadsave.cpp:268 findDecoder imread_('test.png'): can't open/read file: check file path/integrity\n"
     ]
    }
   ],
   "source": [
    "frame = cv2.imread('test.png')\n",
    "if frame is None:\n",
    "    print(\"Error: Could not load the image. Check the file path.\")\n",
    "else:\n",
    "    print(\"Image loaded successfully.\")\n"
   ]
  },
  {
   "cell_type": "code",
   "execution_count": 3,
   "id": "0a77747d-43f2-4d72-b73a-e949907c8a43",
   "metadata": {
    "tags": []
   },
   "outputs": [
    {
     "name": "stdout",
     "output_type": "stream",
     "text": [
      "/home/studio-lab-user/AI-ML-Code-and-projects/Autonomous warehouse car - In progress until May 2025\n"
     ]
    }
   ],
   "source": [
    "import os\n",
    "print(os.getcwd())  # Prints the current working directory\n"
   ]
  },
  {
   "cell_type": "code",
   "execution_count": null,
   "id": "1cc9499b-1f46-42b2-9904-aca8d19097f1",
   "metadata": {},
   "outputs": [],
   "source": []
  }
 ],
 "metadata": {
  "kernelspec": {
   "display_name": "sagemaker-distribution:Python",
   "language": "python",
   "name": "conda-env-sagemaker-distribution-py"
  },
  "language_info": {
   "codemirror_mode": {
    "name": "ipython",
    "version": 3
   },
   "file_extension": ".py",
   "mimetype": "text/x-python",
   "name": "python",
   "nbconvert_exporter": "python",
   "pygments_lexer": "ipython3",
   "version": "3.10.14"
  }
 },
 "nbformat": 4,
 "nbformat_minor": 5
}
